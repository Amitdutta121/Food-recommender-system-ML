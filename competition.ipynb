{
  "nbformat": 4,
  "nbformat_minor": 0,
  "metadata": {
    "colab": {
      "name": "competition.ipynb",
      "provenance": []
    },
    "kernelspec": {
      "name": "python3",
      "display_name": "Python 3"
    },
    "accelerator": "GPU"
  },
  "cells": [
    {
      "cell_type": "code",
      "metadata": {
        "id": "vCRkc5nrHNu1",
        "colab_type": "code",
        "outputId": "b4048a01-7fd3-45b5-89bc-2746097043d1",
        "colab": {
          "base_uri": "https://localhost:8080/",
          "height": 1000
        }
      },
      "source": [
        "!pip install xgboost\n",
        "!pip install dask[delayed] dask-ml\n",
        "!pip install scikit-mdr skrebate"
      ],
      "execution_count": 1,
      "outputs": [
        {
          "output_type": "stream",
          "text": [
            "Requirement already satisfied: xgboost in /usr/local/lib/python3.6/dist-packages (0.90)\n",
            "Requirement already satisfied: numpy in /usr/local/lib/python3.6/dist-packages (from xgboost) (1.17.4)\n",
            "Requirement already satisfied: scipy in /usr/local/lib/python3.6/dist-packages (from xgboost) (1.3.2)\n",
            "Requirement already satisfied: dask[delayed] in /usr/local/lib/python3.6/dist-packages (1.1.5)\n",
            "Collecting dask-ml\n",
            "\u001b[?25l  Downloading https://files.pythonhosted.org/packages/d1/7e/3205c4e19d92c484921404605b5694221254ae78c5edd6e660b2d4714c55/dask_ml-1.1.1-py3-none-any.whl (123kB)\n",
            "\u001b[K     |████████████████████████████████| 133kB 3.5MB/s \n",
            "\u001b[?25hRequirement already satisfied: toolz>=0.7.3; extra == \"delayed\" in /usr/local/lib/python3.6/dist-packages (from dask[delayed]) (0.10.0)\n",
            "Requirement already satisfied: numba in /usr/local/lib/python3.6/dist-packages (from dask-ml) (0.40.1)\n",
            "Requirement already satisfied: distributed>=1.25.0 in /usr/local/lib/python3.6/dist-packages (from dask-ml) (1.25.3)\n",
            "Requirement already satisfied: numpy in /usr/local/lib/python3.6/dist-packages (from dask-ml) (1.17.4)\n",
            "Requirement already satisfied: scikit-learn>=0.20 in /usr/local/lib/python3.6/dist-packages (from dask-ml) (0.21.3)\n",
            "Requirement already satisfied: packaging in /usr/local/lib/python3.6/dist-packages (from dask-ml) (19.2)\n",
            "Requirement already satisfied: scipy in /usr/local/lib/python3.6/dist-packages (from dask-ml) (1.3.2)\n",
            "Collecting multipledispatch>=0.4.9\n",
            "  Downloading https://files.pythonhosted.org/packages/89/79/429ecef45fd5e4504f7474d4c3c3c4668c267be3370e4c2fd33e61506833/multipledispatch-0.6.0-py3-none-any.whl\n",
            "Collecting dask-glm>=0.2.0\n",
            "  Downloading https://files.pythonhosted.org/packages/cb/ee/36c6e0e7b51e08406e5c3bb036f35adb77bd0a89335437b2e6f03c948f1a/dask_glm-0.2.0-py2.py3-none-any.whl\n",
            "Requirement already satisfied: pandas>=0.23.4 in /usr/local/lib/python3.6/dist-packages (from dask-ml) (0.25.3)\n",
            "Requirement already satisfied: llvmlite>=0.25.0dev0 in /usr/local/lib/python3.6/dist-packages (from numba->dask-ml) (0.30.0)\n",
            "Requirement already satisfied: pyyaml in /usr/local/lib/python3.6/dist-packages (from distributed>=1.25.0->dask-ml) (3.13)\n",
            "Requirement already satisfied: six in /usr/local/lib/python3.6/dist-packages (from distributed>=1.25.0->dask-ml) (1.12.0)\n",
            "Requirement already satisfied: zict>=0.1.3 in /usr/local/lib/python3.6/dist-packages (from distributed>=1.25.0->dask-ml) (1.0.0)\n",
            "Requirement already satisfied: tornado>=4.5.1 in /usr/local/lib/python3.6/dist-packages (from distributed>=1.25.0->dask-ml) (4.5.3)\n",
            "Requirement already satisfied: tblib in /usr/local/lib/python3.6/dist-packages (from distributed>=1.25.0->dask-ml) (1.5.0)\n",
            "Requirement already satisfied: sortedcontainers!=2.0.0,!=2.0.1 in /usr/local/lib/python3.6/dist-packages (from distributed>=1.25.0->dask-ml) (2.1.0)\n",
            "Requirement already satisfied: psutil>=5.0 in /usr/local/lib/python3.6/dist-packages (from distributed>=1.25.0->dask-ml) (5.4.8)\n",
            "Requirement already satisfied: click>=6.6 in /usr/local/lib/python3.6/dist-packages (from distributed>=1.25.0->dask-ml) (7.0)\n",
            "Requirement already satisfied: cloudpickle>=0.2.2 in /usr/local/lib/python3.6/dist-packages (from distributed>=1.25.0->dask-ml) (1.2.2)\n",
            "Requirement already satisfied: msgpack in /usr/local/lib/python3.6/dist-packages (from distributed>=1.25.0->dask-ml) (0.5.6)\n",
            "Requirement already satisfied: joblib>=0.11 in /usr/local/lib/python3.6/dist-packages (from scikit-learn>=0.20->dask-ml) (0.14.0)\n",
            "Requirement already satisfied: pyparsing>=2.0.2 in /usr/local/lib/python3.6/dist-packages (from packaging->dask-ml) (2.4.5)\n",
            "Requirement already satisfied: python-dateutil>=2.6.1 in /usr/local/lib/python3.6/dist-packages (from pandas>=0.23.4->dask-ml) (2.6.1)\n",
            "Requirement already satisfied: pytz>=2017.2 in /usr/local/lib/python3.6/dist-packages (from pandas>=0.23.4->dask-ml) (2018.9)\n",
            "Requirement already satisfied: heapdict in /usr/local/lib/python3.6/dist-packages (from zict>=0.1.3->distributed>=1.25.0->dask-ml) (1.0.1)\n",
            "Installing collected packages: multipledispatch, dask-glm, dask-ml\n",
            "Successfully installed dask-glm-0.2.0 dask-ml-1.1.1 multipledispatch-0.6.0\n",
            "Collecting scikit-mdr\n",
            "  Downloading https://files.pythonhosted.org/packages/5f/f5/e070a1e64f0cde221fcb7d76baaaf9ddeb493ddc744d1215e6d79a89b764/scikit-MDR-0.4.4.tar.gz\n",
            "Collecting skrebate\n",
            "  Downloading https://files.pythonhosted.org/packages/7d/01/764fdd40b0e9f01624725c3cf1ffa00071fabb66b62d39fc2c28b34f3edb/skrebate-0.6.tar.gz\n",
            "Requirement already satisfied: numpy in /usr/local/lib/python3.6/dist-packages (from scikit-mdr) (1.17.4)\n",
            "Requirement already satisfied: scipy in /usr/local/lib/python3.6/dist-packages (from scikit-mdr) (1.3.2)\n",
            "Requirement already satisfied: scikit-learn in /usr/local/lib/python3.6/dist-packages (from scikit-mdr) (0.21.3)\n",
            "Requirement already satisfied: matplotlib in /usr/local/lib/python3.6/dist-packages (from scikit-mdr) (3.1.1)\n",
            "Requirement already satisfied: joblib>=0.11 in /usr/local/lib/python3.6/dist-packages (from scikit-learn->scikit-mdr) (0.14.0)\n",
            "Requirement already satisfied: pyparsing!=2.0.4,!=2.1.2,!=2.1.6,>=2.0.1 in /usr/local/lib/python3.6/dist-packages (from matplotlib->scikit-mdr) (2.4.5)\n",
            "Requirement already satisfied: kiwisolver>=1.0.1 in /usr/local/lib/python3.6/dist-packages (from matplotlib->scikit-mdr) (1.1.0)\n",
            "Requirement already satisfied: python-dateutil>=2.1 in /usr/local/lib/python3.6/dist-packages (from matplotlib->scikit-mdr) (2.6.1)\n",
            "Requirement already satisfied: cycler>=0.10 in /usr/local/lib/python3.6/dist-packages (from matplotlib->scikit-mdr) (0.10.0)\n",
            "Requirement already satisfied: setuptools in /usr/local/lib/python3.6/dist-packages (from kiwisolver>=1.0.1->matplotlib->scikit-mdr) (41.6.0)\n",
            "Requirement already satisfied: six>=1.5 in /usr/local/lib/python3.6/dist-packages (from python-dateutil>=2.1->matplotlib->scikit-mdr) (1.12.0)\n",
            "Building wheels for collected packages: scikit-mdr, skrebate\n",
            "  Building wheel for scikit-mdr (setup.py) ... \u001b[?25l\u001b[?25hdone\n",
            "  Created wheel for scikit-mdr: filename=scikit_MDR-0.4.4-cp36-none-any.whl size=14639 sha256=fc6642930ae6dcf504684d2a99e00fc0378b4ecf58d38dd7e244eee4467f5df6\n",
            "  Stored in directory: /root/.cache/pip/wheels/ee/50/91/9d48f7807ff574cdbf8f82fc65b7075b23acc9106d3cced38f\n",
            "  Building wheel for skrebate (setup.py) ... \u001b[?25l\u001b[?25hdone\n",
            "  Created wheel for skrebate: filename=skrebate-0.6-cp36-none-any.whl size=29329 sha256=ecff956bad93363027b7908e4c13bff954c795a50e4dcb1d33360c048b9a75de\n",
            "  Stored in directory: /root/.cache/pip/wheels/f5/99/36/c827bcfa6852c6d068895b2723c57cea84f93642270c6dc05c\n",
            "Successfully built scikit-mdr skrebate\n",
            "Installing collected packages: scikit-mdr, skrebate\n",
            "Successfully installed scikit-mdr-0.4.4 skrebate-0.6\n"
          ],
          "name": "stdout"
        }
      ]
    },
    {
      "cell_type": "code",
      "metadata": {
        "id": "WmhPlVQ5bm9l",
        "colab_type": "code",
        "colab": {}
      },
      "source": [
        "import pandas as pd\n",
        "from sklearn.preprocessing import LabelEncoder\n",
        "from sklearn.cluster import KMeans\n",
        "import seaborn as sns"
      ],
      "execution_count": 0,
      "outputs": []
    },
    {
      "cell_type": "code",
      "metadata": {
        "id": "SHgBBvvBbz30",
        "colab_type": "code",
        "outputId": "3e243639-f500-4908-c705-6734cdd858ba",
        "colab": {
          "base_uri": "https://localhost:8080/",
          "height": 204
        }
      },
      "source": [
        "df = pd.read_csv('data.csv', delimiter=',')\n",
        "df.head()"
      ],
      "execution_count": 4,
      "outputs": [
        {
          "output_type": "execute_result",
          "data": {
            "text/html": [
              "<div>\n",
              "<style scoped>\n",
              "    .dataframe tbody tr th:only-of-type {\n",
              "        vertical-align: middle;\n",
              "    }\n",
              "\n",
              "    .dataframe tbody tr th {\n",
              "        vertical-align: top;\n",
              "    }\n",
              "\n",
              "    .dataframe thead th {\n",
              "        text-align: right;\n",
              "    }\n",
              "</style>\n",
              "<table border=\"1\" class=\"dataframe\">\n",
              "  <thead>\n",
              "    <tr style=\"text-align: right;\">\n",
              "      <th></th>\n",
              "      <th>user_id</th>\n",
              "      <th>item_id</th>\n",
              "      <th>dow</th>\n",
              "      <th>hod</th>\n",
              "      <th>category_id</th>\n",
              "      <th>cusine_id</th>\n",
              "      <th>restaurant_id</th>\n",
              "      <th>item_count</th>\n",
              "    </tr>\n",
              "  </thead>\n",
              "  <tbody>\n",
              "    <tr>\n",
              "      <th>0</th>\n",
              "      <td>-6088859261566846925</td>\n",
              "      <td>601d4dc5-2ad</td>\n",
              "      <td>7</td>\n",
              "      <td>3</td>\n",
              "      <td>9c64431e-79f</td>\n",
              "      <td>fb8b5b7f-013</td>\n",
              "      <td>706247b3-86e</td>\n",
              "      <td>1.0</td>\n",
              "    </tr>\n",
              "    <tr>\n",
              "      <th>1</th>\n",
              "      <td>-4662982070704311223</td>\n",
              "      <td>af48a23f-f80</td>\n",
              "      <td>7</td>\n",
              "      <td>2</td>\n",
              "      <td>a989cb37-db5</td>\n",
              "      <td>8631ea96-a78</td>\n",
              "      <td>ea90883c-a2f</td>\n",
              "      <td>1.0</td>\n",
              "    </tr>\n",
              "    <tr>\n",
              "      <th>2</th>\n",
              "      <td>-4849981472186386714</td>\n",
              "      <td>bab8cfae-930</td>\n",
              "      <td>1</td>\n",
              "      <td>1</td>\n",
              "      <td>4f31b9ea-059</td>\n",
              "      <td>5aa1a680-942</td>\n",
              "      <td>d9ab8a13-380</td>\n",
              "      <td>1.0</td>\n",
              "    </tr>\n",
              "    <tr>\n",
              "      <th>3</th>\n",
              "      <td>-5400975689533971605</td>\n",
              "      <td>3ae9d553-282</td>\n",
              "      <td>4</td>\n",
              "      <td>0</td>\n",
              "      <td>37d510f8-745</td>\n",
              "      <td>c9aa3993-86f</td>\n",
              "      <td>0b8d021a-c5c</td>\n",
              "      <td>1.0</td>\n",
              "    </tr>\n",
              "    <tr>\n",
              "      <th>4</th>\n",
              "      <td>4810905585891548302</td>\n",
              "      <td>3d673534-8f8</td>\n",
              "      <td>3</td>\n",
              "      <td>1</td>\n",
              "      <td>4264559d-470</td>\n",
              "      <td>5aa1a680-942</td>\n",
              "      <td>5772716f-1f3</td>\n",
              "      <td>1.0</td>\n",
              "    </tr>\n",
              "  </tbody>\n",
              "</table>\n",
              "</div>"
            ],
            "text/plain": [
              "               user_id       item_id  ...  restaurant_id  item_count\n",
              "0 -6088859261566846925  601d4dc5-2ad  ...   706247b3-86e         1.0\n",
              "1 -4662982070704311223  af48a23f-f80  ...   ea90883c-a2f         1.0\n",
              "2 -4849981472186386714  bab8cfae-930  ...   d9ab8a13-380         1.0\n",
              "3 -5400975689533971605  3ae9d553-282  ...   0b8d021a-c5c         1.0\n",
              "4  4810905585891548302  3d673534-8f8  ...   5772716f-1f3         1.0\n",
              "\n",
              "[5 rows x 8 columns]"
            ]
          },
          "metadata": {
            "tags": []
          },
          "execution_count": 4
        }
      ]
    },
    {
      "cell_type": "code",
      "metadata": {
        "id": "Lv1z3Lvalqa2",
        "colab_type": "code",
        "colab": {
          "base_uri": "https://localhost:8080/",
          "height": 844
        },
        "outputId": "5087c034-c41c-48e4-8ce2-2763c5ed69dc"
      },
      "source": [
        "sns.pairplot(df, hue='cusine_id', size=2.5);"
      ],
      "execution_count": 7,
      "outputs": [
        {
          "output_type": "stream",
          "text": [
            "/usr/local/lib/python3.6/dist-packages/seaborn/axisgrid.py:2065: UserWarning: The `size` parameter has been renamed to `height`; pleaes update your code.\n",
            "  warnings.warn(msg, UserWarning)\n",
            "/usr/local/lib/python3.6/dist-packages/statsmodels/nonparametric/kde.py:487: RuntimeWarning: invalid value encountered in true_divide\n",
            "  binned = fast_linbin(X, a, b, gridsize) / (delta * nobs)\n",
            "/usr/local/lib/python3.6/dist-packages/statsmodels/nonparametric/kdetools.py:34: RuntimeWarning: invalid value encountered in double_scalars\n",
            "  FAC1 = 2*(np.pi*bw/RANGE)**2\n"
          ],
          "name": "stderr"
        },
        {
          "output_type": "display_data",
          "data": {
            "image/png": "[encoded data removed]",
            "text/plain": [
              "<Figure size 829x720 with 20 Axes>"
            ]
          },
          "metadata": {
            "tags": []
          }
        }
      ]
    },
    {
      "cell_type": "code",
      "metadata": {
        "id": "B0iAPfQ0lqYX",
        "colab_type": "code",
        "colab": {
          "base_uri": "https://localhost:8080/",
          "height": 441
        },
        "outputId": "659ab5ec-e149-4384-8e0c-d07766d117df"
      },
      "source": [
        "with sns.axes_style('white'):\n",
        "    sns.jointplot(\"dow\", \"item_count\", data=df, kind='hex')"
      ],
      "execution_count": 10,
      "outputs": [
        {
          "output_type": "display_data",
          "data": {
            "image/png": "[encoded data removed]",
            "text/plain": [
              "<Figure size 432x432 with 3 Axes>"
            ]
          },
          "metadata": {
            "tags": []
          }
        }
      ]
    },
    {
      "cell_type": "code",
      "metadata": {
        "id": "C86Drl3FcAgE",
        "colab_type": "code",
        "outputId": "bbdf9003-2af7-46e7-9f30-e07503cbc3ef",
        "colab": {
          "base_uri": "https://localhost:8080/",
          "height": 204
        }
      },
      "source": [
        "df = df.dropna(axis = 0, how ='any') \n",
        "df_back = df\n",
        "df = df[['dow','hod','category_id']]\n",
        "df.head()"
      ],
      "execution_count": 11,
      "outputs": [
        {
          "output_type": "execute_result",
          "data": {
            "text/html": [
              "<div>\n",
              "<style scoped>\n",
              "    .dataframe tbody tr th:only-of-type {\n",
              "        vertical-align: middle;\n",
              "    }\n",
              "\n",
              "    .dataframe tbody tr th {\n",
              "        vertical-align: top;\n",
              "    }\n",
              "\n",
              "    .dataframe thead th {\n",
              "        text-align: right;\n",
              "    }\n",
              "</style>\n",
              "<table border=\"1\" class=\"dataframe\">\n",
              "  <thead>\n",
              "    <tr style=\"text-align: right;\">\n",
              "      <th></th>\n",
              "      <th>dow</th>\n",
              "      <th>hod</th>\n",
              "      <th>category_id</th>\n",
              "    </tr>\n",
              "  </thead>\n",
              "  <tbody>\n",
              "    <tr>\n",
              "      <th>0</th>\n",
              "      <td>7</td>\n",
              "      <td>3</td>\n",
              "      <td>9c64431e-79f</td>\n",
              "    </tr>\n",
              "    <tr>\n",
              "      <th>1</th>\n",
              "      <td>7</td>\n",
              "      <td>2</td>\n",
              "      <td>a989cb37-db5</td>\n",
              "    </tr>\n",
              "    <tr>\n",
              "      <th>2</th>\n",
              "      <td>1</td>\n",
              "      <td>1</td>\n",
              "      <td>4f31b9ea-059</td>\n",
              "    </tr>\n",
              "    <tr>\n",
              "      <th>3</th>\n",
              "      <td>4</td>\n",
              "      <td>0</td>\n",
              "      <td>37d510f8-745</td>\n",
              "    </tr>\n",
              "    <tr>\n",
              "      <th>4</th>\n",
              "      <td>3</td>\n",
              "      <td>1</td>\n",
              "      <td>4264559d-470</td>\n",
              "    </tr>\n",
              "  </tbody>\n",
              "</table>\n",
              "</div>"
            ],
            "text/plain": [
              "   dow  hod   category_id\n",
              "0    7    3  9c64431e-79f\n",
              "1    7    2  a989cb37-db5\n",
              "2    1    1  4f31b9ea-059\n",
              "3    4    0  37d510f8-745\n",
              "4    3    1  4264559d-470"
            ]
          },
          "metadata": {
            "tags": []
          },
          "execution_count": 11
        }
      ]
    },
    {
      "cell_type": "code",
      "metadata": {
        "id": "DWu82olzes_9",
        "colab_type": "code",
        "outputId": "874520ff-0a33-48ea-894b-0280e29f59d8",
        "colab": {
          "base_uri": "https://localhost:8080/",
          "height": 125
        }
      },
      "source": [
        "df['category_id'] = df['category_id'].apply(str)"
      ],
      "execution_count": 12,
      "outputs": [
        {
          "output_type": "stream",
          "text": [
            "/usr/local/lib/python3.6/dist-packages/ipykernel_launcher.py:1: SettingWithCopyWarning: \n",
            "A value is trying to be set on a copy of a slice from a DataFrame.\n",
            "Try using .loc[row_indexer,col_indexer] = value instead\n",
            "\n",
            "See the caveats in the documentation: http://pandas.pydata.org/pandas-docs/stable/user_guide/indexing.html#returning-a-view-versus-a-copy\n",
            "  \"\"\"Entry point for launching an IPython kernel.\n"
          ],
          "name": "stderr"
        }
      ]
    },
    {
      "cell_type": "code",
      "metadata": {
        "id": "f11W4p6wdynE",
        "colab_type": "code",
        "outputId": "260fccfb-6822-4bc0-ed7c-2ec021cc16dd",
        "colab": {
          "base_uri": "https://localhost:8080/",
          "height": 125
        }
      },
      "source": [
        "labelencoder = LabelEncoder()\n",
        "df.iloc[:,2] = labelencoder.fit_transform(df.iloc[:,2])"
      ],
      "execution_count": 13,
      "outputs": [
        {
          "output_type": "stream",
          "text": [
            "/usr/local/lib/python3.6/dist-packages/pandas/core/indexing.py:494: SettingWithCopyWarning: \n",
            "A value is trying to be set on a copy of a slice from a DataFrame.\n",
            "Try using .loc[row_indexer,col_indexer] = value instead\n",
            "\n",
            "See the caveats in the documentation: http://pandas.pydata.org/pandas-docs/stable/user_guide/indexing.html#returning-a-view-versus-a-copy\n",
            "  self.obj[item] = s\n"
          ],
          "name": "stderr"
        }
      ]
    },
    {
      "cell_type": "code",
      "metadata": {
        "id": "YJSxv3m4ezad",
        "colab_type": "code",
        "outputId": "7cc91821-3df2-4215-846d-2a0f465b2d6e",
        "colab": {
          "base_uri": "https://localhost:8080/",
          "height": 35
        }
      },
      "source": [
        "df['category_id'].max(axis=0)"
      ],
      "execution_count": 14,
      "outputs": [
        {
          "output_type": "execute_result",
          "data": {
            "text/plain": [
              "1737"
            ]
          },
          "metadata": {
            "tags": []
          },
          "execution_count": 14
        }
      ]
    },
    {
      "cell_type": "code",
      "metadata": {
        "id": "D5924B1egKEP",
        "colab_type": "code",
        "outputId": "22d87383-edfd-4098-9f6f-918427949f6c",
        "colab": {
          "base_uri": "https://localhost:8080/",
          "height": 71
        }
      },
      "source": [
        "kmeans = KMeans(n_clusters=50,init='k-means++')\n",
        "kmeans.fit(df)"
      ],
      "execution_count": 15,
      "outputs": [
        {
          "output_type": "execute_result",
          "data": {
            "text/plain": [
              "KMeans(algorithm='auto', copy_x=True, init='k-means++', max_iter=300,\n",
              "       n_clusters=50, n_init=10, n_jobs=None, precompute_distances='auto',\n",
              "       random_state=None, tol=0.0001, verbose=0)"
            ]
          },
          "metadata": {
            "tags": []
          },
          "execution_count": 15
        }
      ]
    },
    {
      "cell_type": "code",
      "metadata": {
        "id": "KAnMOIO4jas3",
        "colab_type": "code",
        "colab": {}
      },
      "source": [
        "labels = kmeans.predict(df)\n",
        "centroids = kmeans.cluster_centers_\n"
      ],
      "execution_count": 0,
      "outputs": []
    },
    {
      "cell_type": "code",
      "metadata": {
        "id": "Dx5ZBOpUj5lg",
        "colab_type": "code",
        "outputId": "245732ad-d218-4ec2-8645-c6c7625b568e",
        "colab": {
          "base_uri": "https://localhost:8080/",
          "height": 125
        }
      },
      "source": [
        "df['clusters'] = labels"
      ],
      "execution_count": 17,
      "outputs": [
        {
          "output_type": "stream",
          "text": [
            "/usr/local/lib/python3.6/dist-packages/ipykernel_launcher.py:1: SettingWithCopyWarning: \n",
            "A value is trying to be set on a copy of a slice from a DataFrame.\n",
            "Try using .loc[row_indexer,col_indexer] = value instead\n",
            "\n",
            "See the caveats in the documentation: http://pandas.pydata.org/pandas-docs/stable/user_guide/indexing.html#returning-a-view-versus-a-copy\n",
            "  \"\"\"Entry point for launching an IPython kernel.\n"
          ],
          "name": "stderr"
        }
      ]
    },
    {
      "cell_type": "code",
      "metadata": {
        "id": "KwJqMHe0poyT",
        "colab_type": "code",
        "outputId": "164da3a0-99f4-43d6-ce4a-e23755c17d52",
        "colab": {
          "base_uri": "https://localhost:8080/",
          "height": 204
        }
      },
      "source": [
        "df_back.head()"
      ],
      "execution_count": 18,
      "outputs": [
        {
          "output_type": "execute_result",
          "data": {
            "text/html": [
              "<div>\n",
              "<style scoped>\n",
              "    .dataframe tbody tr th:only-of-type {\n",
              "        vertical-align: middle;\n",
              "    }\n",
              "\n",
              "    .dataframe tbody tr th {\n",
              "        vertical-align: top;\n",
              "    }\n",
              "\n",
              "    .dataframe thead th {\n",
              "        text-align: right;\n",
              "    }\n",
              "</style>\n",
              "<table border=\"1\" class=\"dataframe\">\n",
              "  <thead>\n",
              "    <tr style=\"text-align: right;\">\n",
              "      <th></th>\n",
              "      <th>user_id</th>\n",
              "      <th>item_id</th>\n",
              "      <th>dow</th>\n",
              "      <th>hod</th>\n",
              "      <th>category_id</th>\n",
              "      <th>cusine_id</th>\n",
              "      <th>restaurant_id</th>\n",
              "      <th>item_count</th>\n",
              "    </tr>\n",
              "  </thead>\n",
              "  <tbody>\n",
              "    <tr>\n",
              "      <th>0</th>\n",
              "      <td>-6088859261566846925</td>\n",
              "      <td>601d4dc5-2ad</td>\n",
              "      <td>7</td>\n",
              "      <td>3</td>\n",
              "      <td>9c64431e-79f</td>\n",
              "      <td>fb8b5b7f-013</td>\n",
              "      <td>706247b3-86e</td>\n",
              "      <td>1.0</td>\n",
              "    </tr>\n",
              "    <tr>\n",
              "      <th>1</th>\n",
              "      <td>-4662982070704311223</td>\n",
              "      <td>af48a23f-f80</td>\n",
              "      <td>7</td>\n",
              "      <td>2</td>\n",
              "      <td>a989cb37-db5</td>\n",
              "      <td>8631ea96-a78</td>\n",
              "      <td>ea90883c-a2f</td>\n",
              "      <td>1.0</td>\n",
              "    </tr>\n",
              "    <tr>\n",
              "      <th>2</th>\n",
              "      <td>-4849981472186386714</td>\n",
              "      <td>bab8cfae-930</td>\n",
              "      <td>1</td>\n",
              "      <td>1</td>\n",
              "      <td>4f31b9ea-059</td>\n",
              "      <td>5aa1a680-942</td>\n",
              "      <td>d9ab8a13-380</td>\n",
              "      <td>1.0</td>\n",
              "    </tr>\n",
              "    <tr>\n",
              "      <th>3</th>\n",
              "      <td>-5400975689533971605</td>\n",
              "      <td>3ae9d553-282</td>\n",
              "      <td>4</td>\n",
              "      <td>0</td>\n",
              "      <td>37d510f8-745</td>\n",
              "      <td>c9aa3993-86f</td>\n",
              "      <td>0b8d021a-c5c</td>\n",
              "      <td>1.0</td>\n",
              "    </tr>\n",
              "    <tr>\n",
              "      <th>4</th>\n",
              "      <td>4810905585891548302</td>\n",
              "      <td>3d673534-8f8</td>\n",
              "      <td>3</td>\n",
              "      <td>1</td>\n",
              "      <td>4264559d-470</td>\n",
              "      <td>5aa1a680-942</td>\n",
              "      <td>5772716f-1f3</td>\n",
              "      <td>1.0</td>\n",
              "    </tr>\n",
              "  </tbody>\n",
              "</table>\n",
              "</div>"
            ],
            "text/plain": [
              "               user_id       item_id  ...  restaurant_id  item_count\n",
              "0 -6088859261566846925  601d4dc5-2ad  ...   706247b3-86e         1.0\n",
              "1 -4662982070704311223  af48a23f-f80  ...   ea90883c-a2f         1.0\n",
              "2 -4849981472186386714  bab8cfae-930  ...   d9ab8a13-380         1.0\n",
              "3 -5400975689533971605  3ae9d553-282  ...   0b8d021a-c5c         1.0\n",
              "4  4810905585891548302  3d673534-8f8  ...   5772716f-1f3         1.0\n",
              "\n",
              "[5 rows x 8 columns]"
            ]
          },
          "metadata": {
            "tags": []
          },
          "execution_count": 18
        }
      ]
    },
    {
      "cell_type": "code",
      "metadata": {
        "id": "dLNAB0r-qNiz",
        "colab_type": "code",
        "colab": {
          "base_uri": "https://localhost:8080/",
          "height": 125
        },
        "outputId": "9405f037-45ee-47e0-e4e2-a458007ff0fe"
      },
      "source": [
        "df_back['cusine_id'] = df_back['cusine_id'].apply(str)"
      ],
      "execution_count": 19,
      "outputs": [
        {
          "output_type": "stream",
          "text": [
            "/usr/local/lib/python3.6/dist-packages/ipykernel_launcher.py:1: SettingWithCopyWarning: \n",
            "A value is trying to be set on a copy of a slice from a DataFrame.\n",
            "Try using .loc[row_indexer,col_indexer] = value instead\n",
            "\n",
            "See the caveats in the documentation: http://pandas.pydata.org/pandas-docs/stable/user_guide/indexing.html#returning-a-view-versus-a-copy\n",
            "  \"\"\"Entry point for launching an IPython kernel.\n"
          ],
          "name": "stderr"
        }
      ]
    },
    {
      "cell_type": "code",
      "metadata": {
        "id": "10-7gjJPl2jR",
        "colab_type": "code",
        "colab": {
          "base_uri": "https://localhost:8080/",
          "height": 125
        },
        "outputId": "e0c3e6f9-74ee-4c52-b116-6973f054944b"
      },
      "source": [
        "labelencoder = LabelEncoder()\n",
        "df_back.iloc[:,5] = labelencoder.fit_transform(df_back.iloc[:,5])"
      ],
      "execution_count": 20,
      "outputs": [
        {
          "output_type": "stream",
          "text": [
            "/usr/local/lib/python3.6/dist-packages/pandas/core/indexing.py:494: SettingWithCopyWarning: \n",
            "A value is trying to be set on a copy of a slice from a DataFrame.\n",
            "Try using .loc[row_indexer,col_indexer] = value instead\n",
            "\n",
            "See the caveats in the documentation: http://pandas.pydata.org/pandas-docs/stable/user_guide/indexing.html#returning-a-view-versus-a-copy\n",
            "  self.obj[item] = s\n"
          ],
          "name": "stderr"
        }
      ]
    },
    {
      "cell_type": "code",
      "metadata": {
        "id": "3VrPaqapq9cb",
        "colab_type": "code",
        "outputId": "e66d12b1-7428-4655-e6ed-0991c8291ead",
        "colab": {
          "base_uri": "https://localhost:8080/",
          "height": 204
        }
      },
      "source": [
        "df.head()"
      ],
      "execution_count": 21,
      "outputs": [
        {
          "output_type": "execute_result",
          "data": {
            "text/html": [
              "<div>\n",
              "<style scoped>\n",
              "    .dataframe tbody tr th:only-of-type {\n",
              "        vertical-align: middle;\n",
              "    }\n",
              "\n",
              "    .dataframe tbody tr th {\n",
              "        vertical-align: top;\n",
              "    }\n",
              "\n",
              "    .dataframe thead th {\n",
              "        text-align: right;\n",
              "    }\n",
              "</style>\n",
              "<table border=\"1\" class=\"dataframe\">\n",
              "  <thead>\n",
              "    <tr style=\"text-align: right;\">\n",
              "      <th></th>\n",
              "      <th>dow</th>\n",
              "      <th>hod</th>\n",
              "      <th>category_id</th>\n",
              "      <th>clusters</th>\n",
              "    </tr>\n",
              "  </thead>\n",
              "  <tbody>\n",
              "    <tr>\n",
              "      <th>0</th>\n",
              "      <td>7</td>\n",
              "      <td>3</td>\n",
              "      <td>1044</td>\n",
              "      <td>20</td>\n",
              "    </tr>\n",
              "    <tr>\n",
              "      <th>1</th>\n",
              "      <td>7</td>\n",
              "      <td>2</td>\n",
              "      <td>1145</td>\n",
              "      <td>21</td>\n",
              "    </tr>\n",
              "    <tr>\n",
              "      <th>2</th>\n",
              "      <td>1</td>\n",
              "      <td>1</td>\n",
              "      <td>510</td>\n",
              "      <td>24</td>\n",
              "    </tr>\n",
              "    <tr>\n",
              "      <th>3</th>\n",
              "      <td>4</td>\n",
              "      <td>0</td>\n",
              "      <td>354</td>\n",
              "      <td>1</td>\n",
              "    </tr>\n",
              "    <tr>\n",
              "      <th>4</th>\n",
              "      <td>3</td>\n",
              "      <td>1</td>\n",
              "      <td>418</td>\n",
              "      <td>32</td>\n",
              "    </tr>\n",
              "  </tbody>\n",
              "</table>\n",
              "</div>"
            ],
            "text/plain": [
              "   dow  hod  category_id  clusters\n",
              "0    7    3         1044        20\n",
              "1    7    2         1145        21\n",
              "2    1    1          510        24\n",
              "3    4    0          354         1\n",
              "4    3    1          418        32"
            ]
          },
          "metadata": {
            "tags": []
          },
          "execution_count": 21
        }
      ]
    },
    {
      "cell_type": "code",
      "metadata": {
        "id": "yhFwS2Ziqh1S",
        "colab_type": "code",
        "colab": {}
      },
      "source": [
        "df_back = df_back.drop(['dow','hod','category_id'], axis=1)"
      ],
      "execution_count": 0,
      "outputs": []
    },
    {
      "cell_type": "code",
      "metadata": {
        "id": "yqnH4ap5rYhC",
        "colab_type": "code",
        "colab": {}
      },
      "source": [
        "df_back['dow'] = df['dow'].values\n",
        "df_back['hod'] = df['hod'].values\n",
        "df_back['category_id'] = df['category_id'].values\n",
        "df_back['clusters'] = df['clusters'].values"
      ],
      "execution_count": 0,
      "outputs": []
    },
    {
      "cell_type": "code",
      "metadata": {
        "id": "MbQ_dNritudM",
        "colab_type": "code",
        "outputId": "50d11765-0148-41fd-d335-0fb8d77d5feb",
        "colab": {
          "base_uri": "https://localhost:8080/",
          "height": 35
        }
      },
      "source": [
        "df_back['cusine_id'].max(axis=0)"
      ],
      "execution_count": 24,
      "outputs": [
        {
          "output_type": "execute_result",
          "data": {
            "text/plain": [
              "19"
            ]
          },
          "metadata": {
            "tags": []
          },
          "execution_count": 24
        }
      ]
    },
    {
      "cell_type": "code",
      "metadata": {
        "id": "UfG-7PR4sAnk",
        "colab_type": "code",
        "outputId": "3019cdb0-c9c3-4d0d-8741-9939cdd923b7",
        "colab": {
          "base_uri": "https://localhost:8080/",
          "height": 204
        }
      },
      "source": [
        "df_back.head()"
      ],
      "execution_count": 25,
      "outputs": [
        {
          "output_type": "execute_result",
          "data": {
            "text/html": [
              "<div>\n",
              "<style scoped>\n",
              "    .dataframe tbody tr th:only-of-type {\n",
              "        vertical-align: middle;\n",
              "    }\n",
              "\n",
              "    .dataframe tbody tr th {\n",
              "        vertical-align: top;\n",
              "    }\n",
              "\n",
              "    .dataframe thead th {\n",
              "        text-align: right;\n",
              "    }\n",
              "</style>\n",
              "<table border=\"1\" class=\"dataframe\">\n",
              "  <thead>\n",
              "    <tr style=\"text-align: right;\">\n",
              "      <th></th>\n",
              "      <th>user_id</th>\n",
              "      <th>item_id</th>\n",
              "      <th>cusine_id</th>\n",
              "      <th>restaurant_id</th>\n",
              "      <th>item_count</th>\n",
              "      <th>dow</th>\n",
              "      <th>hod</th>\n",
              "      <th>category_id</th>\n",
              "      <th>clusters</th>\n",
              "    </tr>\n",
              "  </thead>\n",
              "  <tbody>\n",
              "    <tr>\n",
              "      <th>0</th>\n",
              "      <td>-6088859261566846925</td>\n",
              "      <td>601d4dc5-2ad</td>\n",
              "      <td>19</td>\n",
              "      <td>706247b3-86e</td>\n",
              "      <td>1.0</td>\n",
              "      <td>7</td>\n",
              "      <td>3</td>\n",
              "      <td>1044</td>\n",
              "      <td>20</td>\n",
              "    </tr>\n",
              "    <tr>\n",
              "      <th>1</th>\n",
              "      <td>-4662982070704311223</td>\n",
              "      <td>af48a23f-f80</td>\n",
              "      <td>10</td>\n",
              "      <td>ea90883c-a2f</td>\n",
              "      <td>1.0</td>\n",
              "      <td>7</td>\n",
              "      <td>2</td>\n",
              "      <td>1145</td>\n",
              "      <td>21</td>\n",
              "    </tr>\n",
              "    <tr>\n",
              "      <th>2</th>\n",
              "      <td>-4849981472186386714</td>\n",
              "      <td>bab8cfae-930</td>\n",
              "      <td>5</td>\n",
              "      <td>d9ab8a13-380</td>\n",
              "      <td>1.0</td>\n",
              "      <td>1</td>\n",
              "      <td>1</td>\n",
              "      <td>510</td>\n",
              "      <td>24</td>\n",
              "    </tr>\n",
              "    <tr>\n",
              "      <th>3</th>\n",
              "      <td>-5400975689533971605</td>\n",
              "      <td>3ae9d553-282</td>\n",
              "      <td>14</td>\n",
              "      <td>0b8d021a-c5c</td>\n",
              "      <td>1.0</td>\n",
              "      <td>4</td>\n",
              "      <td>0</td>\n",
              "      <td>354</td>\n",
              "      <td>1</td>\n",
              "    </tr>\n",
              "    <tr>\n",
              "      <th>4</th>\n",
              "      <td>4810905585891548302</td>\n",
              "      <td>3d673534-8f8</td>\n",
              "      <td>5</td>\n",
              "      <td>5772716f-1f3</td>\n",
              "      <td>1.0</td>\n",
              "      <td>3</td>\n",
              "      <td>1</td>\n",
              "      <td>418</td>\n",
              "      <td>32</td>\n",
              "    </tr>\n",
              "  </tbody>\n",
              "</table>\n",
              "</div>"
            ],
            "text/plain": [
              "               user_id       item_id  cusine_id  ... hod  category_id  clusters\n",
              "0 -6088859261566846925  601d4dc5-2ad         19  ...   3         1044        20\n",
              "1 -4662982070704311223  af48a23f-f80         10  ...   2         1145        21\n",
              "2 -4849981472186386714  bab8cfae-930          5  ...   1          510        24\n",
              "3 -5400975689533971605  3ae9d553-282         14  ...   0          354         1\n",
              "4  4810905585891548302  3d673534-8f8          5  ...   1          418        32\n",
              "\n",
              "[5 rows x 9 columns]"
            ]
          },
          "metadata": {
            "tags": []
          },
          "execution_count": 25
        }
      ]
    },
    {
      "cell_type": "code",
      "metadata": {
        "id": "qnmd2pbQsQgU",
        "colab_type": "code",
        "colab": {}
      },
      "source": [
        "X = df_back.iloc[:,5:9].values\n",
        "Y = df_back.iloc[:,2:3].values"
      ],
      "execution_count": 0,
      "outputs": []
    },
    {
      "cell_type": "code",
      "metadata": {
        "id": "6YChnTXKOtGT",
        "colab_type": "code",
        "outputId": "23dc7893-c686-41ea-9328-8d22e587595e",
        "colab": {
          "base_uri": "https://localhost:8080/",
          "height": 82
        }
      },
      "source": [
        "from keras.utils import to_categorical\n",
        "\n",
        "# Y = to_categorical(Y)"
      ],
      "execution_count": 27,
      "outputs": [
        {
          "output_type": "stream",
          "text": [
            "Using TensorFlow backend.\n"
          ],
          "name": "stderr"
        },
        {
          "output_type": "display_data",
          "data": {
            "text/html": [
              "<p style=\"color: red;\">\n",
              "The default version of TensorFlow in Colab will soon switch to TensorFlow 2.x.<br>\n",
              "We recommend you <a href=\"https://www.tensorflow.org/guide/migrate\" target=\"_blank\">upgrade</a> now \n",
              "or ensure your notebook will continue to use TensorFlow 1.x via the <code>%tensorflow_version 1.x</code> magic:\n",
              "<a href=\"https://colab.research.google.com/notebooks/tensorflow_version.ipynb\" target=\"_blank\">more info</a>.</p>\n"
            ],
            "text/plain": [
              "<IPython.core.display.HTML object>"
            ]
          },
          "metadata": {
            "tags": []
          }
        }
      ]
    },
    {
      "cell_type": "code",
      "metadata": {
        "id": "-PhWeplVFppp",
        "colab_type": "code",
        "outputId": "ef12a81e-8142-4758-e7e6-50e9fb0e0090",
        "colab": {
          "base_uri": "https://localhost:8080/",
          "height": 143
        }
      },
      "source": [
        "Y"
      ],
      "execution_count": 28,
      "outputs": [
        {
          "output_type": "execute_result",
          "data": {
            "text/plain": [
              "array([[19],\n",
              "       [10],\n",
              "       [ 5],\n",
              "       ...,\n",
              "       [ 0],\n",
              "       [ 0],\n",
              "       [ 0]])"
            ]
          },
          "metadata": {
            "tags": []
          },
          "execution_count": 28
        }
      ]
    },
    {
      "cell_type": "code",
      "metadata": {
        "id": "2UtLYdzQsokr",
        "colab_type": "code",
        "colab": {}
      },
      "source": [
        "# from sklearn.preprocessing import StandardScaler\n",
        "\n",
        "# sc = StandardScaler()\n",
        "# X = sc.fit_transform(X)\n",
        "# X"
      ],
      "execution_count": 0,
      "outputs": []
    },
    {
      "cell_type": "code",
      "metadata": {
        "id": "3fWpvOGBufd1",
        "colab_type": "code",
        "colab": {}
      },
      "source": [
        "# X.shape"
      ],
      "execution_count": 0,
      "outputs": []
    },
    {
      "cell_type": "code",
      "metadata": {
        "id": "QWZKykPltQfc",
        "colab_type": "code",
        "colab": {}
      },
      "source": [
        "# sc1 = StandardScaler()\n",
        "# Y = sc.fit_transform(Y)\n",
        "# Y"
      ],
      "execution_count": 0,
      "outputs": []
    },
    {
      "cell_type": "code",
      "metadata": {
        "id": "XL0EUEjpuIaN",
        "colab_type": "code",
        "colab": {}
      },
      "source": [
        "from sklearn.model_selection import train_test_split\n",
        "X_train, X_test, y_train, y_test = train_test_split(X, Y, test_size=0.2)"
      ],
      "execution_count": 0,
      "outputs": []
    },
    {
      "cell_type": "code",
      "metadata": {
        "id": "cUPDrYEAJEKe",
        "colab_type": "code",
        "outputId": "0f93e1e7-8036-40e6-ea6c-08c2454f8653",
        "colab": {
          "base_uri": "https://localhost:8080/",
          "height": 143
        }
      },
      "source": [
        "X_train"
      ],
      "execution_count": 30,
      "outputs": [
        {
          "output_type": "execute_result",
          "data": {
            "text/plain": [
              "array([[   7,   23, 1161,    0],\n",
              "       [   1,    3,  483,   22],\n",
              "       [   2,    5,  178,   40],\n",
              "       ...,\n",
              "       [   2,    2, 1128,   21],\n",
              "       [   6,    2, 1654,   37],\n",
              "       [   5,    6, 1598,   44]])"
            ]
          },
          "metadata": {
            "tags": []
          },
          "execution_count": 30
        }
      ]
    },
    {
      "cell_type": "code",
      "metadata": {
        "id": "pjeMCRAMOB54",
        "colab_type": "code",
        "colab": {}
      },
      "source": [
        "import numpy as np\n",
        "import pandas as pd\n",
        "from sklearn.cluster import FeatureAgglomeration\n",
        "from sklearn.ensemble import ExtraTreesClassifier\n",
        "from sklearn.feature_selection import RFE\n",
        "from sklearn.model_selection import train_test_split\n",
        "from sklearn.pipeline import make_pipeline\n",
        "from xgboost import XGBClassifier"
      ],
      "execution_count": 0,
      "outputs": []
    },
    {
      "cell_type": "code",
      "metadata": {
        "id": "GrH5DnTR86hX",
        "colab_type": "code",
        "colab": {}
      },
      "source": [
        "\n",
        "tX = df_back.iloc[:,5:9].values\n",
        "tY = df_back.iloc[:,2:3].values\n",
        "\n",
        "training_features, testing_features, training_target, testing_target = \\\n",
        "            train_test_split(tX, tY.ravel(), random_state=42, test_size=0.2)\n",
        "\n",
        "exported_pipeline = make_pipeline(\n",
        "    RFE(estimator=ExtraTreesClassifier(criterion=\"gini\", max_features=0.1, n_estimators=100), step=0.55),\n",
        "    FeatureAgglomeration(affinity=\"l2\", linkage=\"average\"),\n",
        "    XGBClassifier(learning_rate=0.5, max_depth=7, min_child_weight=1, n_estimators=100, nthread=1, subsample=0.55)\n",
        ")\n",
        "\n",
        "\n",
        "exported_pipeline.fit(training_features, training_target)\n",
        "results = exported_pipeline.predict(testing_features) "
      ],
      "execution_count": 0,
      "outputs": []
    },
    {
      "cell_type": "code",
      "metadata": {
        "id": "kooAgtSk-iiS",
        "colab_type": "code",
        "outputId": "c5012dfd-d133-4c65-870c-c65b7f753485",
        "colab": {
          "base_uri": "https://localhost:8080/",
          "height": 53
        }
      },
      "source": [
        "from sklearn.metrics import confusion_matrix\n",
        "\n",
        "result = confusion_matrix(testing_target, results)\n",
        "result[3]"
      ],
      "execution_count": 33,
      "outputs": [
        {
          "output_type": "execute_result",
          "data": {
            "text/plain": [
              "array([ 7,  0,  2, 99,  0,  1,  0,  0,  0,  0,  0,  0, 10,  0,  1,  0,  0,\n",
              "        1,  0])"
            ]
          },
          "metadata": {
            "tags": []
          },
          "execution_count": 33
        }
      ]
    },
    {
      "cell_type": "code",
      "metadata": {
        "id": "zt_2MAeb92vW",
        "colab_type": "code",
        "outputId": "91bfeb89-a4b3-4fa2-fd4c-126b5ebfb1d6",
        "colab": {
          "base_uri": "https://localhost:8080/",
          "height": 377
        }
      },
      "source": [
        "#compare output\n",
        "\n",
        "for i in range(20):\n",
        "\tprint(\"X=%s, predicted=%s\" % (testing_target[i], results[i]))"
      ],
      "execution_count": 36,
      "outputs": [
        {
          "output_type": "stream",
          "text": [
            "X=0, predicted=0\n",
            "X=0, predicted=0\n",
            "X=13, predicted=0\n",
            "X=0, predicted=0\n",
            "X=7, predicted=7\n",
            "X=0, predicted=0\n",
            "X=0, predicted=0\n",
            "X=3, predicted=3\n",
            "X=0, predicted=0\n",
            "X=0, predicted=0\n",
            "X=19, predicted=19\n",
            "X=9, predicted=9\n",
            "X=18, predicted=18\n",
            "X=0, predicted=0\n",
            "X=0, predicted=0\n",
            "X=0, predicted=0\n",
            "X=0, predicted=0\n",
            "X=5, predicted=1\n",
            "X=0, predicted=0\n",
            "X=3, predicted=3\n"
          ],
          "name": "stdout"
        }
      ]
    },
    {
      "cell_type": "code",
      "metadata": {
        "id": "04ES9kqU_KDF",
        "colab_type": "code",
        "colab": {}
      },
      "source": [
        "from sklearn.metrics import accuracy_score\n",
        "score = accuracy_score(y_test, results)"
      ],
      "execution_count": 0,
      "outputs": []
    },
    {
      "cell_type": "code",
      "metadata": {
        "id": "90HBkiL-9LdI",
        "colab_type": "code",
        "colab": {}
      },
      "source": [
        "# for i in range(len(X_test)):\n",
        "# \tprint(\"X=%s, Predicted=%s\" % (X_test[i], outTree[i]))"
      ],
      "execution_count": 0,
      "outputs": []
    }
  ]
}